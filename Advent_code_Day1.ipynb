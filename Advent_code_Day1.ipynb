{
  "nbformat": 4,
  "nbformat_minor": 0,
  "metadata": {
    "colab": {
      "name": "Advent_code_Day1.ipynb",
      "provenance": []
    },
    "kernelspec": {
      "name": "python3",
      "display_name": "Python 3"
    },
    "language_info": {
      "name": "python"
    }
  },
  "cells": [
    {
      "cell_type": "code",
      "metadata": {
        "colab": {
          "base_uri": "https://localhost:8080/"
        },
        "id": "poQbHYawHfgl",
        "outputId": "b4e998b6-a207-4255-ebc1-7565b4afa47d"
      },
      "source": [
        "from google.colab import drive \n",
        "drive.mount('/content/gdrive')"
      ],
      "execution_count": 1,
      "outputs": [
        {
          "output_type": "stream",
          "name": "stdout",
          "text": [
            "Mounted at /content/gdrive\n"
          ]
        }
      ]
    },
    {
      "cell_type": "code",
      "metadata": {
        "colab": {
          "base_uri": "https://localhost:8080/"
        },
        "id": "WrH1hGtA307C",
        "outputId": "e3c76e7f-7421-4c6e-e5fa-3328d1917d0b"
      },
      "source": [
        "import numpy as np\n",
        "import pandas as pd\n",
        "from pandas import read_csv\n",
        "\n",
        "data = read_csv(\"/content/gdrive/MyDrive/Colab Notebooks/Python Workout 50/puzzle1.csv\")\n",
        "print(data.columns)"
      ],
      "execution_count": 53,
      "outputs": [
        {
          "output_type": "stream",
          "name": "stdout",
          "text": [
            "Index(['num'], dtype='object')\n"
          ]
        }
      ]
    },
    {
      "cell_type": "code",
      "metadata": {
        "colab": {
          "base_uri": "https://localhost:8080/"
        },
        "id": "cjUbKoWdHrJm",
        "outputId": "f39eee9d-cde5-41fd-d0c8-3721067b7ea0"
      },
      "source": [
        "X = data[\"num\"].values\n",
        "X"
      ],
      "execution_count": 8,
      "outputs": [
        {
          "output_type": "execute_result",
          "data": {
            "text/plain": [
              "array([ 190,  168,  166, ..., 4447, 4459, 4482])"
            ]
          },
          "metadata": {},
          "execution_count": 8
        }
      ]
    },
    {
      "cell_type": "code",
      "metadata": {
        "colab": {
          "base_uri": "https://localhost:8080/"
        },
        "id": "W8Uix7OyIRyp",
        "outputId": "60ab66e0-fc3a-4f46-a412-f0bc1dc3c0ff"
      },
      "source": [
        "def increasing(X):\n",
        "  count = 0\n",
        "  for i in range(0, len(X)):\n",
        "    if i!=1999:\n",
        "      if X[i] < X[i+1]:\n",
        "        count = count+1\n",
        "  return count\n",
        "\n",
        "X = data[\"num\"].values\n",
        "incr = increasing(X)\n",
        "incr"
      ],
      "execution_count": 26,
      "outputs": [
        {
          "output_type": "execute_result",
          "data": {
            "text/plain": [
              "1301"
            ]
          },
          "metadata": {},
          "execution_count": 26
        }
      ]
    },
    {
      "cell_type": "code",
      "metadata": {
        "colab": {
          "base_uri": "https://localhost:8080/"
        },
        "id": "PzT09BrWJ1TU",
        "outputId": "86345d0e-cefa-49d2-bdbb-026c9c5156c9"
      },
      "source": [
        "def add_3_sums(X):\n",
        "  three_sum = np.array([])\n",
        "  \n",
        "  for i in range(0, len(X)):\n",
        "    if i!=1998 and i!=1999:\n",
        "      sum = X[i] + X[i+1] + X[i+2]\n",
        "    three_sum = np.append(sum, three_sum)\n",
        "\n",
        "  return three_sum[::-1]\n",
        "\n",
        "X = data[\"num\"].values\n",
        "three_sums = add_3_sums(X)\n",
        "three_sums"
      ],
      "execution_count": 51,
      "outputs": [
        {
          "output_type": "execute_result",
          "data": {
            "text/plain": [
              "array([  524.,   497.,   499., ..., 13388., 13388., 13388.])"
            ]
          },
          "metadata": {},
          "execution_count": 51
        }
      ]
    },
    {
      "cell_type": "code",
      "metadata": {
        "colab": {
          "base_uri": "https://localhost:8080/"
        },
        "id": "vzMNK7QfO0kr",
        "outputId": "8cd6f25f-c3e7-42a8-e5ea-c7a7a1199c67"
      },
      "source": [
        "incr = increasing(three_sums)\n",
        "incr"
      ],
      "execution_count": 52,
      "outputs": [
        {
          "output_type": "execute_result",
          "data": {
            "text/plain": [
              "1346"
            ]
          },
          "metadata": {},
          "execution_count": 52
        }
      ]
    },
    {
      "cell_type": "code",
      "metadata": {
        "id": "GGLHm9iGPf8w"
      },
      "source": [
        ""
      ],
      "execution_count": null,
      "outputs": []
    }
  ]
}